{
  "cells": [
    {
      "cell_type": "code",
      "execution_count": 2,
      "metadata": {
        "colab": {
          "base_uri": "https://localhost:8080/"
        },
        "id": "tF-l6QiM29Kh",
        "outputId": "b16787a0-508d-45c9-cb9f-6087d8c828b7"
      },
      "outputs": [
        {
          "output_type": "stream",
          "name": "stdout",
          "text": [
            "Mounted at /content/drive\n"
          ]
        }
      ],
      "source": [
        "from google.colab import drive\n",
        "drive.mount('/content/drive')"
      ]
    },
    {
      "cell_type": "code",
      "source": [
        "import torch\n",
        "import torch.nn as nn\n",
        "import torch.optim as optim\n",
        "import torchvision.models as models\n",
        "import torchvision.transforms as transforms\n",
        "from torch.utils.data import DataLoader, Dataset\n",
        "import numpy as np\n",
        "import os\n",
        "import cv2\n",
        "\n",
        "from PIL import Image\n",
        "\n",
        "import matplotlib.pyplot as plt\n",
        "from tqdm import tqdm\n",
        "\n",
        "# -------------------- Dataset --------------------\n",
        "\n",
        "class CustomDataset(Dataset):\n",
        "    def __init__(self, images_dir, labels_dir, transform=None):\n",
        "        self.images_dir = images_dir\n",
        "        self.labels_dir = labels_dir\n",
        "        self.image_files = sorted(os.listdir(images_dir))  # Ensure order consistency\n",
        "\n",
        "        # **CRUCIAL: Check if labels exist for each image**\n",
        "        self.valid_files = []\n",
        "        for img_file in self.image_files:\n",
        "            label_path = os.path.join(self.labels_dir, img_file.rsplit('.', 1)[0] + '.txt')\n",
        "            if os.path.exists(label_path):\n",
        "                self.valid_files.append(img_file)\n",
        "            else:\n",
        "                print(f\"Warning: Label file missing for {img_file}. Skipping.\")\n",
        "\n",
        "        self.image_files = self.valid_files #Use only the valid images\n",
        "        self.transform = transform\n",
        "\n",
        "\n",
        "    def __len__(self):\n",
        "        return len(self.image_files)\n",
        "\n",
        "    def __getitem__(self, idx):\n",
        "        img_path = os.path.join(self.images_dir, self.image_files[idx])\n",
        "        label_path = os.path.join(self.labels_dir, self.image_files[idx].rsplit('.', 1)[0] + '.txt')\n",
        "\n",
        "        # Load Image\n",
        "        image = Image.open(img_path).convert(\"RGB\")\n",
        "        img_size = image.size[::-1]  # (height, width)\n",
        "\n",
        "        # Load YOLO Labels and Convert to Mask\n",
        "        with open(label_path, 'r') as f:\n",
        "            yolo_annotations = f.readlines()\n",
        "\n",
        "        mask = self.yolo_polygon_to_mask(yolo_annotations, img_size)\n",
        "        mask = Image.fromarray(mask)  # Convert NumPy array to PIL Image\n",
        "\n",
        "        if self.transform:\n",
        "            image = self.transform(image)\n",
        "            mask = mask.resize((256, 256), Image.NEAREST)  # Resize mask to match model output\n",
        "            mask = transforms.ToTensor()(mask)  # Convert to Tensor\n",
        "\n",
        "        return image, mask.squeeze(0)  # Remove extra dimension if needed\n",
        "\n",
        "    def yolo_polygon_to_mask(self, annotations, img_size):\n",
        "        \"\"\"Convert YOLO polygon annotations to a binary mask.\"\"\"\n",
        "        mask = np.zeros(img_size, dtype=np.uint8)\n",
        "        for annotation in annotations:\n",
        "            coords = np.array(annotation.strip().split()[1:], dtype=np.float32)\n",
        "            coords = coords.reshape(-1, 2) * np.array(img_size[::-1])  # VERY IMPORTANT: Check that the yolo coordinates are normalized.\n",
        "            coords = coords.astype(np.int32)\n",
        "\n",
        "            # Draw the filled polygon on the mask\n",
        "            mask = cv2.fillPoly(mask, [coords], 1)\n",
        "\n",
        "        return mask\n",
        "\n",
        "# -------------------- Attention Block --------------------\n",
        "class AttentionBlock(nn.Module):\n",
        "    def __init__(self, F_g, F_l, F_int):\n",
        "        super().__init__()\n",
        "        self.W_g = nn.Sequential(\n",
        "            nn.Conv2d(F_g, F_int, kernel_size=1, stride=1, padding=0, bias=True),\n",
        "            nn.BatchNorm2d(F_int)\n",
        "        )\n",
        "\n",
        "        self.W_x = nn.Sequential(\n",
        "            nn.Conv2d(F_l, F_int, kernel_size=1, stride=1, padding=0, bias=True),\n",
        "            nn.BatchNorm2d(F_int)\n",
        "        )\n",
        "\n",
        "        self.psi = nn.Sequential(\n",
        "            nn.Conv2d(F_int, 1, kernel_size=1, stride=1, padding=0, bias=True),\n",
        "            nn.BatchNorm2d(1),\n",
        "            nn.Sigmoid()\n",
        "        )\n",
        "\n",
        "        self.relu = nn.ReLU(inplace=True)\n",
        "\n",
        "    def forward(self, g, x):\n",
        "        g1 = self.W_g(g)\n",
        "        x1 = self.W_x(x)\n",
        "\n",
        "        if g1.shape != x1.shape:\n",
        "            g1 = nn.functional.interpolate(g1, size=x1.shape[2:], mode=\"bilinear\", align_corners=True)\n",
        "\n",
        "        psi = self.relu(g1 + x1)\n",
        "        psi = self.psi(psi)\n",
        "        return x * psi\n",
        "\n",
        "# -------------------- Attention U-Net Model --------------------\n",
        "class AttentionUNet(nn.Module):\n",
        "    def __init__(self, n_class):\n",
        "        super().__init__()\n",
        "        self.base_model = models.resnet18(weights=models.ResNet18_Weights.DEFAULT)\n",
        "        self.base_layers = list(self.base_model.children())\n",
        "\n",
        "        # Encoder\n",
        "        self.layer0 = nn.Sequential(*self.base_layers[:3])  # 64 channels\n",
        "        self.layer1 = nn.Sequential(*self.base_layers[3:5])  # 64 channels\n",
        "        self.layer2 = self.base_layers[5]  # 128 channels\n",
        "        self.layer3 = self.base_layers[6]  # 256 channels\n",
        "        self.layer4 = self.base_layers[7]  # 512 channels\n",
        "\n",
        "        # Attention Blocks\n",
        "        self.att3 = AttentionBlock(512, 256, 128)\n",
        "        self.att2 = AttentionBlock(256, 128, 64)\n",
        "        self.att1 = AttentionBlock(128, 64, 32)\n",
        "        self.att0 = AttentionBlock(64, 64, 32)\n",
        "\n",
        "        # Decoder\n",
        "        self.upsample = nn.Upsample(scale_factor=2, mode=\"bilinear\", align_corners=True)\n",
        "\n",
        "        self.conv_up3 = nn.Conv2d(512 + 256, 256, kernel_size=3, padding=1)\n",
        "        self.conv_up2 = nn.Conv2d(256 + 128, 128, kernel_size=3, padding=1)\n",
        "        self.conv_up1 = nn.Conv2d(128 + 64, 64, kernel_size=3, padding=1)\n",
        "        self.conv_up0 = nn.Conv2d(64 + 64, 64, kernel_size=3, padding=1)\n",
        "\n",
        "        self.conv_last = nn.Conv2d(64, n_class, kernel_size=1)\n",
        "\n",
        "    def forward(self, input):\n",
        "        # Encoder\n",
        "        layer0 = self.layer0(input)\n",
        "        layer1 = self.layer1(layer0)\n",
        "        layer2 = self.layer2(layer1)\n",
        "        layer3 = self.layer3(layer2)\n",
        "        layer4 = self.layer4(layer3)\n",
        "\n",
        "        # Attention Mechanism\n",
        "        g3 = self.att3(layer4, layer3)\n",
        "        g2 = self.att2(self.upsample(g3), layer2)\n",
        "        g1 = self.att1(self.upsample(g2), layer1)\n",
        "        g0 = self.att0(self.upsample(g1), layer0)\n",
        "\n",
        "        # Decoder\n",
        "        x = torch.cat([self.upsample(layer4), g3], dim=1)\n",
        "        x = self.conv_up3(x)\n",
        "\n",
        "        x = torch.cat([self.upsample(x), g2], dim=1)\n",
        "        x = self.conv_up2(x)\n",
        "\n",
        "        x = torch.cat([self.upsample(x), g1], dim=1)\n",
        "        x = self.conv_up1(x)\n",
        "\n",
        "        x = torch.cat([self.upsample(x), g0], dim=1)\n",
        "        x = self.conv_up0(x)\n",
        "\n",
        "        out = self.conv_last(self.upsample(x))\n",
        "        return out\n",
        "\n",
        "# -------------------- Training --------------------\n",
        "# Hyperparameters\n",
        "EPOCHS = 20\n",
        "BATCH_SIZE = 4 #Try reducing this!\n",
        "LR = 0.001 #Try reducing this!\n",
        "IMAGE_SIZE = (256, 256)\n",
        "DEVICE = torch.device(\"cuda\" if torch.cuda.is_available() else \"cpu\")\n",
        "print(f\"Using device: {DEVICE}\")\n",
        "\n",
        "# Define transformations\n",
        "transform = transforms.Compose([\n",
        "    transforms.Resize(IMAGE_SIZE),\n",
        "    transforms.ToTensor(),\n",
        "])\n",
        "\n",
        "# Dataset and DataLoaders\n",
        "data_dir = \"/content/drive/MyDrive/SpaceVela 3D-CV 1 class fail-2\"\n",
        "\n",
        "\n",
        "train_dataset = CustomDataset(\n",
        "    images_dir=os.path.join(data_dir, \"train\", \"images\"),  # Path to images\n",
        "    labels_dir=os.path.join(data_dir, \"train\", \"labels\"),  # Path to labels\n",
        "    transform=transform\n",
        ")\n",
        "\n",
        "val_dataset = CustomDataset(\n",
        "    images_dir=os.path.join(data_dir, \"valid\", \"images\"),  # Path to images\n",
        "    labels_dir=os.path.join(data_dir, \"valid\", \"labels\"),  # Path to labels\n",
        "    transform=transform\n",
        ")\n",
        "\n",
        "\n",
        "train_loader = DataLoader(train_dataset, batch_size=BATCH_SIZE, shuffle=True)\n",
        "val_loader = DataLoader(val_dataset, batch_size=BATCH_SIZE, shuffle=False)\n",
        "\n",
        "# Initialize Model\n",
        "model = AttentionUNet(n_class=1).to(DEVICE)\n",
        "criterion = nn.BCEWithLogitsLoss()  # Use sigmoid activation in loss\n",
        "optimizer = optim.Adam(model.parameters(), lr=LR)\n",
        "\n",
        "# Lists to store loss values\n",
        "train_losses = []\n",
        "val_losses = []\n",
        "\n",
        "# Training Loop\n",
        "scaler = torch.cuda.amp.GradScaler()\n",
        "best_val_loss = float('inf')  # Track the best validation loss\n",
        "\n",
        "for epoch in range(EPOCHS):\n",
        "    model.train()\n",
        "    epoch_loss = 0\n",
        "\n",
        "    train_loop = tqdm(train_loader, desc=f\"Epoch {epoch+1}/{EPOCHS} [Train]\")\n",
        "    for images, masks in train_loop:\n",
        "        images, masks = images.to(DEVICE), masks.to(DEVICE).float().unsqueeze(1)\n",
        "\n",
        "        optimizer.zero_grad()\n",
        "        with torch.cuda.amp.autocast(enabled=(DEVICE==\"cuda\")):  # Enable mixed precision if CUDA is available\n",
        "            outputs = model(images)\n",
        "            loss = criterion(outputs, masks)\n",
        "\n",
        "        scaler.scale(loss).backward()\n",
        "        torch.nn.utils.clip_grad_norm_(model.parameters(), max_norm=1.0) # Add gradient clipping\n",
        "        scaler.step(optimizer)\n",
        "        scaler.update()\n",
        "\n",
        "        epoch_loss += loss.item()\n",
        "        train_loop.set_postfix(loss=loss.item()) # Display the loss in the progress bar\n",
        "\n",
        "    train_loss = epoch_loss/len(train_loader)\n",
        "    train_losses.append(train_loss)\n",
        "    print(f\"Epoch {epoch+1}/{EPOCHS}, Training Loss: {train_loss}\")\n",
        "\n",
        "\n",
        "    # Validation Loop\n",
        "    model.eval()\n",
        "    val_loss = 0\n",
        "    val_loop = tqdm(val_loader, desc=f\"Epoch {epoch+1}/{EPOCHS} [Val]\")\n",
        "    with torch.no_grad():\n",
        "        for images, masks in val_loop:\n",
        "            images, masks = images.to(DEVICE), masks.to(DEVICE).float().unsqueeze(1)\n",
        "            with torch.cuda.amp.autocast(enabled=(DEVICE==\"cuda\")): # Enable mixed precision if CUDA is available\n",
        "                outputs = model(images)\n",
        "                loss = criterion(outputs, masks)\n",
        "            val_loss += loss.item()\n",
        "\n",
        "    val_loss /= len(val_loader)\n",
        "    val_losses.append(val_loss)\n",
        "    print(f\"Epoch {epoch+1}/{EPOCHS}, Validation Loss: {val_loss}\")\n",
        "\n",
        "    # Save the model if validation loss improves\n",
        "    if val_loss < best_val_loss:\n",
        "        best_val_loss = val_loss\n",
        "        torch.save(model.state_dict(), \"best_model.pth\")  # Save the model weights\n",
        "        print(\"Saved best model\")\n",
        "\n",
        "\n",
        "\n",
        "print(\"Training complete!\")\n",
        "\n",
        "# Plotting the losses *after* the training loop\n",
        "plt.figure(figsize=(10, 5))\n",
        "plt.plot(train_losses, label='Training Loss')\n",
        "plt.plot(val_losses, label='Validation Loss')\n",
        "plt.xlabel('Epoch')\n",
        "plt.ylabel('Loss')\n",
        "plt.title('Training and Validation Loss')\n",
        "plt.legend()\n",
        "plt.grid(True)\n",
        "plt.show()\n",
        "\n",
        "\n",
        "# --- Image Visualization ---\n",
        "model.eval()  # Set the model to evaluation mode\n",
        "num_images = 4  # Number of images to display\n",
        "indices = np.random.choice(len(val_dataset), num_images, replace=False)  # Randomly select indices\n",
        "\n",
        "fig, axes = plt.subplots(num_images, 3, figsize=(15, 5 * num_images))\n",
        "fig.tight_layout() #Prevent graphs from overlapping\n",
        "\n",
        "with torch.no_grad():\n",
        "    for i, idx in enumerate(indices):\n",
        "        image, mask = val_dataset[idx]\n",
        "        image = image.unsqueeze(0).to(DEVICE) # Add batch dimension\n",
        "        mask = mask.cpu().numpy()\n",
        "\n",
        "        with torch.cuda.amp.autocast(enabled=(DEVICE==\"cuda\")):\n",
        "            output = model(image)\n",
        "            output = torch.sigmoid(output)  # Apply sigmoid activation\n",
        "        predicted_mask = (output.squeeze(0).cpu().numpy() > 0.5).astype(np.uint8)  # Convert to binary mask\n",
        "\n",
        "        # Display images\n",
        "        axes[i, 0].imshow(image.squeeze(0).cpu().permute(1, 2, 0))\n",
        "        axes[i, 0].set_title(\"Original Image\")\n",
        "        axes[i, 0].axis(\"off\")\n",
        "\n",
        "        axes[i, 1].imshow(mask, cmap='gray')\n",
        "        axes[i, 1].set_title(\"Ground Truth Mask\")\n",
        "        axes[i, 1].axis(\"off\")\n",
        "\n",
        "        axes[i, 2].imshow(predicted_mask, cmap='gray')\n",
        "        axes[i, 2].set_title(\"Predicted Mask\")\n",
        "        axes[i, 2].axis(\"off\")\n",
        "\n",
        "plt.show()"
      ],
      "metadata": {
        "colab": {
          "base_uri": "https://localhost:8080/",
          "height": 1000
        },
        "id": "b8-4gHtqbgDq",
        "outputId": "6691e805-662a-4dc5-f552-733de837a7cb"
      },
      "execution_count": 5,
      "outputs": [
        {
          "metadata": {
            "tags": null
          },
          "name": "stdout",
          "output_type": "stream",
          "text": [
            "Using device: cuda\n",
            "Warning: Label file missing for image_1207_png.rf.39a1f97938b2348aaa851a0798b6bdfb (1).jpg. Skipping.\n",
            "Warning: Label file missing for image_1712_jpg.rf.6325d852d31b17c3f1c555f10fa18548 (1).jpg. Skipping.\n",
            "Warning: Label file missing for image_1713_png.rf.0f9a8dca36cb9bfb884503b7ee46157c (1).jpg. Skipping.\n",
            "Warning: Label file missing for image_2819_jpg.rf.835eb9e889867140f5f9ab286982eea4 (1).jpg. Skipping.\n",
            "Warning: Label file missing for image_3250_png.rf.eda9caa4e0e947bae4c7a600efda8f9b (1).jpg. Skipping.\n",
            "Warning: Label file missing for image_3546_png.rf.20f26b1f8fac064e7238c78874a3aac8 (1).jpg. Skipping.\n",
            "Warning: Label file missing for image_4221_png.rf.cf23ab86419bf178c1378bfd7590cd15 (1).jpg. Skipping.\n",
            "Warning: Label file missing for image_435_png.rf.076e118e56aeac9c3f56d13f6bf4b9fa (1).jpg. Skipping.\n",
            "Warning: Label file missing for image_4719_png.rf.c2570703010b25858611bc25578f4943 (1).jpg. Skipping.\n",
            "Warning: Label file missing for image_971_png.rf.67473a61b3826500a40a18ee4bbc5dc6 (1).jpg. Skipping.\n"
          ]
        },
        {
          "metadata": {
            "tags": null
          },
          "name": "stderr",
          "output_type": "stream",
          "text": [
            "<ipython-input-5-8372dad808f4>:213: FutureWarning: `torch.cuda.amp.GradScaler(args...)` is deprecated. Please use `torch.amp.GradScaler('cuda', args...)` instead.\n",
            "  scaler = torch.cuda.amp.GradScaler()\n",
            "Epoch 1/20 [Train]:   0%|          | 0/483 [00:00<?, ?it/s]<ipython-input-5-8372dad808f4>:225: FutureWarning: `torch.cuda.amp.autocast(args...)` is deprecated. Please use `torch.amp.autocast('cuda', args...)` instead.\n",
            "  with torch.cuda.amp.autocast(enabled=(DEVICE==\"cuda\")):  # Enable mixed precision if CUDA is available\n",
            "Epoch 1/20 [Train]: 100%|██████████| 483/483 [01:11<00:00,  6.75it/s, loss=0.00141]\n"
          ]
        },
        {
          "metadata": {
            "tags": null
          },
          "name": "stdout",
          "output_type": "stream",
          "text": [
            "Epoch 1/20, Training Loss: 0.005416084297315177\n"
          ]
        },
        {
          "metadata": {
            "tags": null
          },
          "name": "stderr",
          "output_type": "stream",
          "text": [
            "Epoch 1/20 [Val]:   0%|          | 0/30 [00:00<?, ?it/s]<ipython-input-5-8372dad808f4>:249: FutureWarning: `torch.cuda.amp.autocast(args...)` is deprecated. Please use `torch.amp.autocast('cuda', args...)` instead.\n",
            "  with torch.cuda.amp.autocast(enabled=(DEVICE==\"cuda\")): # Enable mixed precision if CUDA is available\n",
            "Epoch 1/20 [Val]: 100%|██████████| 30/30 [00:02<00:00, 14.94it/s]\n"
          ]
        },
        {
          "metadata": {
            "tags": null
          },
          "name": "stdout",
          "output_type": "stream",
          "text": [
            "Epoch 1/20, Validation Loss: 0.003554240711188565\n",
            "Saved best model\n"
          ]
        },
        {
          "metadata": {
            "tags": null
          },
          "name": "stderr",
          "output_type": "stream",
          "text": [
            "Epoch 2/20 [Train]: 100%|██████████| 483/483 [00:50<00:00,  9.50it/s, loss=0.00345]\n"
          ]
        },
        {
          "metadata": {
            "tags": null
          },
          "name": "stdout",
          "output_type": "stream",
          "text": [
            "Epoch 2/20, Training Loss: 0.0029631190208764457\n"
          ]
        },
        {
          "metadata": {
            "tags": null
          },
          "name": "stderr",
          "output_type": "stream",
          "text": [
            "Epoch 2/20 [Val]: 100%|██████████| 30/30 [00:01<00:00, 15.05it/s]\n"
          ]
        },
        {
          "metadata": {
            "tags": null
          },
          "name": "stdout",
          "output_type": "stream",
          "text": [
            "Epoch 2/20, Validation Loss: 0.003287055069813505\n",
            "Saved best model\n"
          ]
        },
        {
          "metadata": {
            "tags": null
          },
          "name": "stderr",
          "output_type": "stream",
          "text": [
            "Epoch 3/20 [Train]: 100%|██████████| 483/483 [00:50<00:00,  9.52it/s, loss=0.00509]\n"
          ]
        },
        {
          "metadata": {
            "tags": null
          },
          "name": "stdout",
          "output_type": "stream",
          "text": [
            "Epoch 3/20, Training Loss: 0.0029088590602876375\n"
          ]
        },
        {
          "metadata": {
            "tags": null
          },
          "name": "stderr",
          "output_type": "stream",
          "text": [
            "Epoch 3/20 [Val]: 100%|██████████| 30/30 [00:02<00:00, 14.60it/s]\n"
          ]
        },
        {
          "metadata": {
            "tags": null
          },
          "name": "stdout",
          "output_type": "stream",
          "text": [
            "Epoch 3/20, Validation Loss: 0.00334694105743741\n"
          ]
        },
        {
          "metadata": {
            "tags": null
          },
          "name": "stderr",
          "output_type": "stream",
          "text": [
            "Epoch 4/20 [Train]: 100%|██████████| 483/483 [00:50<00:00,  9.50it/s, loss=0.000864]\n"
          ]
        },
        {
          "metadata": {
            "tags": null
          },
          "name": "stdout",
          "output_type": "stream",
          "text": [
            "Epoch 4/20, Training Loss: 0.0028893668997519908\n"
          ]
        },
        {
          "metadata": {
            "tags": null
          },
          "name": "stderr",
          "output_type": "stream",
          "text": [
            "Epoch 4/20 [Val]: 100%|██████████| 30/30 [00:02<00:00, 14.97it/s]\n"
          ]
        },
        {
          "metadata": {
            "tags": null
          },
          "name": "stdout",
          "output_type": "stream",
          "text": [
            "Epoch 4/20, Validation Loss: 0.003353830717969686\n"
          ]
        },
        {
          "metadata": {
            "tags": null
          },
          "name": "stderr",
          "output_type": "stream",
          "text": [
            "Epoch 5/20 [Train]: 100%|██████████| 483/483 [00:50<00:00,  9.57it/s, loss=0.00566]\n"
          ]
        },
        {
          "metadata": {
            "tags": null
          },
          "name": "stdout",
          "output_type": "stream",
          "text": [
            "Epoch 5/20, Training Loss: 0.0028170198781799533\n"
          ]
        },
        {
          "metadata": {
            "tags": null
          },
          "name": "stderr",
          "output_type": "stream",
          "text": [
            "Epoch 5/20 [Val]: 100%|██████████| 30/30 [00:02<00:00, 14.67it/s]\n"
          ]
        },
        {
          "metadata": {
            "tags": null
          },
          "name": "stdout",
          "output_type": "stream",
          "text": [
            "Epoch 5/20, Validation Loss: 0.0033828407487211127\n"
          ]
        },
        {
          "metadata": {
            "tags": null
          },
          "name": "stderr",
          "output_type": "stream",
          "text": [
            "Epoch 6/20 [Train]: 100%|██████████| 483/483 [00:50<00:00,  9.55it/s, loss=0.0018]\n"
          ]
        },
        {
          "metadata": {
            "tags": null
          },
          "name": "stdout",
          "output_type": "stream",
          "text": [
            "Epoch 6/20, Training Loss: 0.0027864877207833295\n"
          ]
        },
        {
          "metadata": {
            "tags": null
          },
          "name": "stderr",
          "output_type": "stream",
          "text": [
            "Epoch 6/20 [Val]: 100%|██████████| 30/30 [00:02<00:00, 14.84it/s]\n"
          ]
        },
        {
          "metadata": {
            "tags": null
          },
          "name": "stdout",
          "output_type": "stream",
          "text": [
            "Epoch 6/20, Validation Loss: 0.00331310488206024\n"
          ]
        },
        {
          "metadata": {
            "tags": null
          },
          "name": "stderr",
          "output_type": "stream",
          "text": [
            "Epoch 7/20 [Train]: 100%|██████████| 483/483 [00:50<00:00,  9.53it/s, loss=0.00455]\n"
          ]
        },
        {
          "metadata": {
            "tags": null
          },
          "name": "stdout",
          "output_type": "stream",
          "text": [
            "Epoch 7/20, Training Loss: 0.00276088146201198\n"
          ]
        },
        {
          "metadata": {
            "tags": null
          },
          "name": "stderr",
          "output_type": "stream",
          "text": [
            "Epoch 7/20 [Val]: 100%|██████████| 30/30 [00:01<00:00, 15.24it/s]\n"
          ]
        },
        {
          "metadata": {
            "tags": null
          },
          "name": "stdout",
          "output_type": "stream",
          "text": [
            "Epoch 7/20, Validation Loss: 0.003414131049066782\n"
          ]
        },
        {
          "metadata": {
            "tags": null
          },
          "name": "stderr",
          "output_type": "stream",
          "text": [
            "Epoch 8/20 [Train]: 100%|██████████| 483/483 [00:51<00:00,  9.45it/s, loss=0.0025]\n"
          ]
        },
        {
          "metadata": {
            "tags": null
          },
          "name": "stdout",
          "output_type": "stream",
          "text": [
            "Epoch 8/20, Training Loss: 0.002741085657236257\n"
          ]
        },
        {
          "metadata": {
            "tags": null
          },
          "name": "stderr",
          "output_type": "stream",
          "text": [
            "Epoch 8/20 [Val]: 100%|██████████| 30/30 [00:01<00:00, 15.05it/s]\n"
          ]
        },
        {
          "metadata": {
            "tags": null
          },
          "name": "stdout",
          "output_type": "stream",
          "text": [
            "Epoch 8/20, Validation Loss: 0.0034282585023902357\n"
          ]
        },
        {
          "metadata": {
            "tags": null
          },
          "name": "stderr",
          "output_type": "stream",
          "text": [
            "Epoch 9/20 [Train]: 100%|██████████| 483/483 [00:50<00:00,  9.55it/s, loss=0.00198]\n"
          ]
        },
        {
          "metadata": {
            "tags": null
          },
          "name": "stdout",
          "output_type": "stream",
          "text": [
            "Epoch 9/20, Training Loss: 0.0027053451155192813\n"
          ]
        },
        {
          "metadata": {
            "tags": null
          },
          "name": "stderr",
          "output_type": "stream",
          "text": [
            "Epoch 9/20 [Val]: 100%|██████████| 30/30 [00:02<00:00, 14.57it/s]\n"
          ]
        },
        {
          "metadata": {
            "tags": null
          },
          "name": "stdout",
          "output_type": "stream",
          "text": [
            "Epoch 9/20, Validation Loss: 0.0033684030543857566\n"
          ]
        },
        {
          "metadata": {
            "tags": null
          },
          "name": "stderr",
          "output_type": "stream",
          "text": [
            "Epoch 10/20 [Train]: 100%|██████████| 483/483 [00:50<00:00,  9.50it/s, loss=0.00604]\n"
          ]
        },
        {
          "metadata": {
            "tags": null
          },
          "name": "stdout",
          "output_type": "stream",
          "text": [
            "Epoch 10/20, Training Loss: 0.002675239160099196\n"
          ]
        },
        {
          "metadata": {
            "tags": null
          },
          "name": "stderr",
          "output_type": "stream",
          "text": [
            "Epoch 10/20 [Val]: 100%|██████████| 30/30 [00:02<00:00, 14.75it/s]\n"
          ]
        },
        {
          "metadata": {
            "tags": null
          },
          "name": "stdout",
          "output_type": "stream",
          "text": [
            "Epoch 10/20, Validation Loss: 0.003513602778548375\n"
          ]
        },
        {
          "metadata": {
            "tags": null
          },
          "name": "stderr",
          "output_type": "stream",
          "text": [
            "Epoch 11/20 [Train]: 100%|██████████| 483/483 [00:50<00:00,  9.53it/s, loss=0.00171]\n"
          ]
        },
        {
          "metadata": {
            "tags": null
          },
          "name": "stdout",
          "output_type": "stream",
          "text": [
            "Epoch 11/20, Training Loss: 0.002663023922786186\n"
          ]
        },
        {
          "metadata": {
            "tags": null
          },
          "name": "stderr",
          "output_type": "stream",
          "text": [
            "Epoch 11/20 [Val]: 100%|██████████| 30/30 [00:02<00:00, 14.88it/s]\n"
          ]
        },
        {
          "metadata": {
            "tags": null
          },
          "name": "stdout",
          "output_type": "stream",
          "text": [
            "Epoch 11/20, Validation Loss: 0.003464031075903525\n"
          ]
        },
        {
          "metadata": {
            "tags": null
          },
          "name": "stderr",
          "output_type": "stream",
          "text": [
            "Epoch 12/20 [Train]: 100%|██████████| 483/483 [00:50<00:00,  9.49it/s, loss=0.000897]\n"
          ]
        },
        {
          "metadata": {
            "tags": null
          },
          "name": "stdout",
          "output_type": "stream",
          "text": [
            "Epoch 12/20, Training Loss: 0.0026498338220015314\n"
          ]
        },
        {
          "metadata": {
            "tags": null
          },
          "name": "stderr",
          "output_type": "stream",
          "text": [
            "Epoch 12/20 [Val]: 100%|██████████| 30/30 [00:02<00:00, 14.87it/s]\n"
          ]
        },
        {
          "metadata": {
            "tags": null
          },
          "name": "stdout",
          "output_type": "stream",
          "text": [
            "Epoch 12/20, Validation Loss: 0.003456219530198723\n"
          ]
        },
        {
          "metadata": {
            "tags": null
          },
          "name": "stderr",
          "output_type": "stream",
          "text": [
            "Epoch 13/20 [Train]: 100%|██████████| 483/483 [00:50<00:00,  9.53it/s, loss=0.00355]\n"
          ]
        },
        {
          "metadata": {
            "tags": null
          },
          "name": "stdout",
          "output_type": "stream",
          "text": [
            "Epoch 13/20, Training Loss: 0.0026348850703807876\n"
          ]
        },
        {
          "metadata": {
            "tags": null
          },
          "name": "stderr",
          "output_type": "stream",
          "text": [
            "Epoch 13/20 [Val]: 100%|██████████| 30/30 [00:02<00:00, 14.97it/s]\n"
          ]
        },
        {
          "metadata": {
            "tags": null
          },
          "name": "stdout",
          "output_type": "stream",
          "text": [
            "Epoch 13/20, Validation Loss: 0.0035279966949019583\n"
          ]
        },
        {
          "metadata": {
            "tags": null
          },
          "name": "stderr",
          "output_type": "stream",
          "text": [
            "Epoch 14/20 [Train]: 100%|██████████| 483/483 [00:50<00:00,  9.62it/s, loss=0.000659]\n"
          ]
        },
        {
          "metadata": {
            "tags": null
          },
          "name": "stdout",
          "output_type": "stream",
          "text": [
            "Epoch 14/20, Training Loss: 0.0026197434611730354\n"
          ]
        },
        {
          "metadata": {
            "tags": null
          },
          "name": "stderr",
          "output_type": "stream",
          "text": [
            "Epoch 14/20 [Val]: 100%|██████████| 30/30 [00:02<00:00, 14.88it/s]\n"
          ]
        },
        {
          "metadata": {
            "tags": null
          },
          "name": "stdout",
          "output_type": "stream",
          "text": [
            "Epoch 14/20, Validation Loss: 0.003523852517052243\n"
          ]
        },
        {
          "metadata": {
            "tags": null
          },
          "name": "stderr",
          "output_type": "stream",
          "text": [
            "Epoch 15/20 [Train]: 100%|██████████| 483/483 [00:50<00:00,  9.53it/s, loss=0.0016]\n"
          ]
        },
        {
          "metadata": {
            "tags": null
          },
          "name": "stdout",
          "output_type": "stream",
          "text": [
            "Epoch 15/20, Training Loss: 0.002611820313968169\n"
          ]
        },
        {
          "metadata": {
            "tags": null
          },
          "name": "stderr",
          "output_type": "stream",
          "text": [
            "Epoch 15/20 [Val]: 100%|██████████| 30/30 [00:02<00:00, 14.41it/s]\n"
          ]
        },
        {
          "metadata": {
            "tags": null
          },
          "name": "stdout",
          "output_type": "stream",
          "text": [
            "Epoch 15/20, Validation Loss: 0.0036078540647091965\n"
          ]
        },
        {
          "metadata": {
            "tags": null
          },
          "name": "stderr",
          "output_type": "stream",
          "text": [
            "Epoch 16/20 [Train]: 100%|██████████| 483/483 [00:49<00:00,  9.72it/s, loss=0.00193]\n"
          ]
        },
        {
          "metadata": {
            "tags": null
          },
          "name": "stdout",
          "output_type": "stream",
          "text": [
            "Epoch 16/20, Training Loss: 0.002609818857647652\n"
          ]
        },
        {
          "metadata": {
            "tags": null
          },
          "name": "stderr",
          "output_type": "stream",
          "text": [
            "Epoch 16/20 [Val]: 100%|██████████| 30/30 [00:01<00:00, 15.67it/s]\n"
          ]
        },
        {
          "metadata": {
            "tags": null
          },
          "name": "stdout",
          "output_type": "stream",
          "text": [
            "Epoch 16/20, Validation Loss: 0.0036164771493834755\n"
          ]
        },
        {
          "metadata": {
            "tags": null
          },
          "name": "stderr",
          "output_type": "stream",
          "text": [
            "Epoch 17/20 [Train]: 100%|██████████| 483/483 [00:49<00:00,  9.70it/s, loss=0.00117]\n"
          ]
        },
        {
          "metadata": {
            "tags": null
          },
          "name": "stdout",
          "output_type": "stream",
          "text": [
            "Epoch 17/20, Training Loss: 0.0026000114306026596\n"
          ]
        },
        {
          "metadata": {
            "tags": null
          },
          "name": "stderr",
          "output_type": "stream",
          "text": [
            "Epoch 17/20 [Val]: 100%|██████████| 30/30 [00:02<00:00, 14.90it/s]\n"
          ]
        },
        {
          "metadata": {
            "tags": null
          },
          "name": "stdout",
          "output_type": "stream",
          "text": [
            "Epoch 17/20, Validation Loss: 0.003612921720681091\n"
          ]
        },
        {
          "metadata": {
            "tags": null
          },
          "name": "stderr",
          "output_type": "stream",
          "text": [
            "Epoch 18/20 [Train]: 100%|██████████| 483/483 [00:49<00:00,  9.73it/s, loss=0.00319]\n"
          ]
        },
        {
          "metadata": {
            "tags": null
          },
          "name": "stdout",
          "output_type": "stream",
          "text": [
            "Epoch 18/20, Training Loss: 0.002591619366759677\n"
          ]
        },
        {
          "metadata": {
            "tags": null
          },
          "name": "stderr",
          "output_type": "stream",
          "text": [
            "Epoch 18/20 [Val]: 100%|██████████| 30/30 [00:01<00:00, 15.34it/s]\n"
          ]
        },
        {
          "metadata": {
            "tags": null
          },
          "name": "stdout",
          "output_type": "stream",
          "text": [
            "Epoch 18/20, Validation Loss: 0.0037482367673267922\n"
          ]
        },
        {
          "output_type": "stream",
          "name": "stderr",
          "text": [
            "Epoch 19/20 [Train]: 100%|██████████| 483/483 [00:49<00:00,  9.67it/s, loss=0.0022]\n"
          ]
        },
        {
          "output_type": "stream",
          "name": "stdout",
          "text": [
            "Epoch 19/20, Training Loss: 0.0025874341683323433\n"
          ]
        },
        {
          "output_type": "stream",
          "name": "stderr",
          "text": [
            "Epoch 19/20 [Val]: 100%|██████████| 30/30 [00:02<00:00, 14.85it/s]\n"
          ]
        },
        {
          "output_type": "stream",
          "name": "stdout",
          "text": [
            "Epoch 19/20, Validation Loss: 0.003728608045882235\n"
          ]
        },
        {
          "output_type": "stream",
          "name": "stderr",
          "text": [
            "Epoch 20/20 [Train]: 100%|██████████| 483/483 [00:49<00:00,  9.67it/s, loss=0.00296]\n"
          ]
        },
        {
          "output_type": "stream",
          "name": "stdout",
          "text": [
            "Epoch 20/20, Training Loss: 0.002585196591610972\n"
          ]
        },
        {
          "output_type": "stream",
          "name": "stderr",
          "text": [
            "Epoch 20/20 [Val]: 100%|██████████| 30/30 [00:01<00:00, 15.07it/s]\n"
          ]
        },
        {
          "output_type": "stream",
          "name": "stdout",
          "text": [
            "Epoch 20/20, Validation Loss: 0.0037338068631167214\n",
            "Training complete!\n"
          ]
        },
        {
          "output_type": "display_data",
          "data": {
            "text/plain": [
              "<Figure size 1000x500 with 1 Axes>"
            ],
            "image/png": "[encoded data removed]"
          },
          "metadata": {}
        },
        {
          "output_type": "stream",
          "name": "stderr",
          "text": [
            "<ipython-input-5-8372dad808f4>:294: FutureWarning: `torch.cuda.amp.autocast(args...)` is deprecated. Please use `torch.amp.autocast('cuda', args...)` instead.\n",
            "  with torch.cuda.amp.autocast(enabled=(DEVICE==\"cuda\")):\n"
          ]
        },
        {
          "output_type": "error",
          "ename": "TypeError",
          "evalue": "Invalid shape (1, 256, 256) for image data",
          "traceback": [
            "\u001b[0;31m---------------------------------------------------------------------------\u001b[0m",
            "\u001b[0;31mTypeError\u001b[0m                                 Traceback (most recent call last)",
            "\u001b[0;32m<ipython-input-5-8372dad808f4>\u001b[0m in \u001b[0;36m<cell line: 0>\u001b[0;34m()\u001b[0m\n\u001b[1;32m    306\u001b[0m         \u001b[0maxes\u001b[0m\u001b[0;34m[\u001b[0m\u001b[0mi\u001b[0m\u001b[0;34m,\u001b[0m \u001b[0;36m1\u001b[0m\u001b[0;34m]\u001b[0m\u001b[0;34m.\u001b[0m\u001b[0maxis\u001b[0m\u001b[0;34m(\u001b[0m\u001b[0;34m\"off\"\u001b[0m\u001b[0;34m)\u001b[0m\u001b[0;34m\u001b[0m\u001b[0;34m\u001b[0m\u001b[0m\n\u001b[1;32m    307\u001b[0m \u001b[0;34m\u001b[0m\u001b[0m\n\u001b[0;32m--> 308\u001b[0;31m         \u001b[0maxes\u001b[0m\u001b[0;34m[\u001b[0m\u001b[0mi\u001b[0m\u001b[0;34m,\u001b[0m \u001b[0;36m2\u001b[0m\u001b[0;34m]\u001b[0m\u001b[0;34m.\u001b[0m\u001b[0mimshow\u001b[0m\u001b[0;34m(\u001b[0m\u001b[0mpredicted_mask\u001b[0m\u001b[0;34m,\u001b[0m \u001b[0mcmap\u001b[0m\u001b[0;34m=\u001b[0m\u001b[0;34m'gray'\u001b[0m\u001b[0;34m)\u001b[0m\u001b[0;34m\u001b[0m\u001b[0;34m\u001b[0m\u001b[0m\n\u001b[0m\u001b[1;32m    309\u001b[0m         \u001b[0maxes\u001b[0m\u001b[0;34m[\u001b[0m\u001b[0mi\u001b[0m\u001b[0;34m,\u001b[0m \u001b[0;36m2\u001b[0m\u001b[0;34m]\u001b[0m\u001b[0;34m.\u001b[0m\u001b[0mset_title\u001b[0m\u001b[0;34m(\u001b[0m\u001b[0;34m\"Predicted Mask\"\u001b[0m\u001b[0;34m)\u001b[0m\u001b[0;34m\u001b[0m\u001b[0;34m\u001b[0m\u001b[0m\n\u001b[1;32m    310\u001b[0m         \u001b[0maxes\u001b[0m\u001b[0;34m[\u001b[0m\u001b[0mi\u001b[0m\u001b[0;34m,\u001b[0m \u001b[0;36m2\u001b[0m\u001b[0;34m]\u001b[0m\u001b[0;34m.\u001b[0m\u001b[0maxis\u001b[0m\u001b[0;34m(\u001b[0m\u001b[0;34m\"off\"\u001b[0m\u001b[0;34m)\u001b[0m\u001b[0;34m\u001b[0m\u001b[0;34m\u001b[0m\u001b[0m\n",
            "\u001b[0;32m/usr/local/lib/python3.11/dist-packages/matplotlib/__init__.py\u001b[0m in \u001b[0;36minner\u001b[0;34m(ax, data, *args, **kwargs)\u001b[0m\n\u001b[1;32m   1519\u001b[0m     \u001b[0;32mdef\u001b[0m \u001b[0minner\u001b[0m\u001b[0;34m(\u001b[0m\u001b[0max\u001b[0m\u001b[0;34m,\u001b[0m \u001b[0;34m*\u001b[0m\u001b[0margs\u001b[0m\u001b[0;34m,\u001b[0m \u001b[0mdata\u001b[0m\u001b[0;34m=\u001b[0m\u001b[0;32mNone\u001b[0m\u001b[0;34m,\u001b[0m \u001b[0;34m**\u001b[0m\u001b[0mkwargs\u001b[0m\u001b[0;34m)\u001b[0m\u001b[0;34m:\u001b[0m\u001b[0;34m\u001b[0m\u001b[0;34m\u001b[0m\u001b[0m\n\u001b[1;32m   1520\u001b[0m         \u001b[0;32mif\u001b[0m \u001b[0mdata\u001b[0m \u001b[0;32mis\u001b[0m \u001b[0;32mNone\u001b[0m\u001b[0;34m:\u001b[0m\u001b[0;34m\u001b[0m\u001b[0;34m\u001b[0m\u001b[0m\n\u001b[0;32m-> 1521\u001b[0;31m             return func(\n\u001b[0m\u001b[1;32m   1522\u001b[0m                 \u001b[0max\u001b[0m\u001b[0;34m,\u001b[0m\u001b[0;34m\u001b[0m\u001b[0;34m\u001b[0m\u001b[0m\n\u001b[1;32m   1523\u001b[0m                 \u001b[0;34m*\u001b[0m\u001b[0mmap\u001b[0m\u001b[0;34m(\u001b[0m\u001b[0mcbook\u001b[0m\u001b[0;34m.\u001b[0m\u001b[0msanitize_sequence\u001b[0m\u001b[0;34m,\u001b[0m \u001b[0margs\u001b[0m\u001b[0;34m)\u001b[0m\u001b[0;34m,\u001b[0m\u001b[0;34m\u001b[0m\u001b[0;34m\u001b[0m\u001b[0m\n",
            "\u001b[0;32m/usr/local/lib/python3.11/dist-packages/matplotlib/axes/_axes.py\u001b[0m in \u001b[0;36mimshow\u001b[0;34m(self, X, cmap, norm, aspect, interpolation, alpha, vmin, vmax, colorizer, origin, extent, interpolation_stage, filternorm, filterrad, resample, url, **kwargs)\u001b[0m\n\u001b[1;32m   5943\u001b[0m             \u001b[0mself\u001b[0m\u001b[0;34m.\u001b[0m\u001b[0mset_aspect\u001b[0m\u001b[0;34m(\u001b[0m\u001b[0maspect\u001b[0m\u001b[0;34m)\u001b[0m\u001b[0;34m\u001b[0m\u001b[0;34m\u001b[0m\u001b[0m\n\u001b[1;32m   5944\u001b[0m \u001b[0;34m\u001b[0m\u001b[0m\n\u001b[0;32m-> 5945\u001b[0;31m         \u001b[0mim\u001b[0m\u001b[0;34m.\u001b[0m\u001b[0mset_data\u001b[0m\u001b[0;34m(\u001b[0m\u001b[0mX\u001b[0m\u001b[0;34m)\u001b[0m\u001b[0;34m\u001b[0m\u001b[0;34m\u001b[0m\u001b[0m\n\u001b[0m\u001b[1;32m   5946\u001b[0m         \u001b[0mim\u001b[0m\u001b[0;34m.\u001b[0m\u001b[0mset_alpha\u001b[0m\u001b[0;34m(\u001b[0m\u001b[0malpha\u001b[0m\u001b[0;34m)\u001b[0m\u001b[0;34m\u001b[0m\u001b[0;34m\u001b[0m\u001b[0m\n\u001b[1;32m   5947\u001b[0m         \u001b[0;32mif\u001b[0m \u001b[0mim\u001b[0m\u001b[0;34m.\u001b[0m\u001b[0mget_clip_path\u001b[0m\u001b[0;34m(\u001b[0m\u001b[0;34m)\u001b[0m \u001b[0;32mis\u001b[0m \u001b[0;32mNone\u001b[0m\u001b[0;34m:\u001b[0m\u001b[0;34m\u001b[0m\u001b[0;34m\u001b[0m\u001b[0m\n",
            "\u001b[0;32m/usr/local/lib/python3.11/dist-packages/matplotlib/image.py\u001b[0m in \u001b[0;36mset_data\u001b[0;34m(self, A)\u001b[0m\n\u001b[1;32m    673\u001b[0m         \u001b[0;32mif\u001b[0m \u001b[0misinstance\u001b[0m\u001b[0;34m(\u001b[0m\u001b[0mA\u001b[0m\u001b[0;34m,\u001b[0m \u001b[0mPIL\u001b[0m\u001b[0;34m.\u001b[0m\u001b[0mImage\u001b[0m\u001b[0;34m.\u001b[0m\u001b[0mImage\u001b[0m\u001b[0;34m)\u001b[0m\u001b[0;34m:\u001b[0m\u001b[0;34m\u001b[0m\u001b[0;34m\u001b[0m\u001b[0m\n\u001b[1;32m    674\u001b[0m             \u001b[0mA\u001b[0m \u001b[0;34m=\u001b[0m \u001b[0mpil_to_array\u001b[0m\u001b[0;34m(\u001b[0m\u001b[0mA\u001b[0m\u001b[0;34m)\u001b[0m  \u001b[0;31m# Needed e.g. to apply png palette.\u001b[0m\u001b[0;34m\u001b[0m\u001b[0;34m\u001b[0m\u001b[0m\n\u001b[0;32m--> 675\u001b[0;31m         \u001b[0mself\u001b[0m\u001b[0;34m.\u001b[0m\u001b[0m_A\u001b[0m \u001b[0;34m=\u001b[0m \u001b[0mself\u001b[0m\u001b[0;34m.\u001b[0m\u001b[0m_normalize_image_array\u001b[0m\u001b[0;34m(\u001b[0m\u001b[0mA\u001b[0m\u001b[0;34m)\u001b[0m\u001b[0;34m\u001b[0m\u001b[0;34m\u001b[0m\u001b[0m\n\u001b[0m\u001b[1;32m    676\u001b[0m         \u001b[0mself\u001b[0m\u001b[0;34m.\u001b[0m\u001b[0m_imcache\u001b[0m \u001b[0;34m=\u001b[0m \u001b[0;32mNone\u001b[0m\u001b[0;34m\u001b[0m\u001b[0;34m\u001b[0m\u001b[0m\n\u001b[1;32m    677\u001b[0m         \u001b[0mself\u001b[0m\u001b[0;34m.\u001b[0m\u001b[0mstale\u001b[0m \u001b[0;34m=\u001b[0m \u001b[0;32mTrue\u001b[0m\u001b[0;34m\u001b[0m\u001b[0;34m\u001b[0m\u001b[0m\n",
            "\u001b[0;32m/usr/local/lib/python3.11/dist-packages/matplotlib/image.py\u001b[0m in \u001b[0;36m_normalize_image_array\u001b[0;34m(A)\u001b[0m\n\u001b[1;32m    641\u001b[0m             \u001b[0mA\u001b[0m \u001b[0;34m=\u001b[0m \u001b[0mA\u001b[0m\u001b[0;34m.\u001b[0m\u001b[0msqueeze\u001b[0m\u001b[0;34m(\u001b[0m\u001b[0;34m-\u001b[0m\u001b[0;36m1\u001b[0m\u001b[0;34m)\u001b[0m  \u001b[0;31m# If just (M, N, 1), assume scalar and apply colormap.\u001b[0m\u001b[0;34m\u001b[0m\u001b[0;34m\u001b[0m\u001b[0m\n\u001b[1;32m    642\u001b[0m         \u001b[0;32mif\u001b[0m \u001b[0;32mnot\u001b[0m \u001b[0;34m(\u001b[0m\u001b[0mA\u001b[0m\u001b[0;34m.\u001b[0m\u001b[0mndim\u001b[0m \u001b[0;34m==\u001b[0m \u001b[0;36m2\u001b[0m \u001b[0;32mor\u001b[0m \u001b[0mA\u001b[0m\u001b[0;34m.\u001b[0m\u001b[0mndim\u001b[0m \u001b[0;34m==\u001b[0m \u001b[0;36m3\u001b[0m \u001b[0;32mand\u001b[0m \u001b[0mA\u001b[0m\u001b[0;34m.\u001b[0m\u001b[0mshape\u001b[0m\u001b[0;34m[\u001b[0m\u001b[0;34m-\u001b[0m\u001b[0;36m1\u001b[0m\u001b[0;34m]\u001b[0m \u001b[0;32min\u001b[0m \u001b[0;34m[\u001b[0m\u001b[0;36m3\u001b[0m\u001b[0;34m,\u001b[0m \u001b[0;36m4\u001b[0m\u001b[0;34m]\u001b[0m\u001b[0;34m)\u001b[0m\u001b[0;34m:\u001b[0m\u001b[0;34m\u001b[0m\u001b[0;34m\u001b[0m\u001b[0m\n\u001b[0;32m--> 643\u001b[0;31m             \u001b[0;32mraise\u001b[0m \u001b[0mTypeError\u001b[0m\u001b[0;34m(\u001b[0m\u001b[0;34mf\"Invalid shape {A.shape} for image data\"\u001b[0m\u001b[0;34m)\u001b[0m\u001b[0;34m\u001b[0m\u001b[0;34m\u001b[0m\u001b[0m\n\u001b[0m\u001b[1;32m    644\u001b[0m         \u001b[0;32mif\u001b[0m \u001b[0mA\u001b[0m\u001b[0;34m.\u001b[0m\u001b[0mndim\u001b[0m \u001b[0;34m==\u001b[0m \u001b[0;36m3\u001b[0m\u001b[0;34m:\u001b[0m\u001b[0;34m\u001b[0m\u001b[0;34m\u001b[0m\u001b[0m\n\u001b[1;32m    645\u001b[0m             \u001b[0;31m# If the input data has values outside the valid range (after\u001b[0m\u001b[0;34m\u001b[0m\u001b[0;34m\u001b[0m\u001b[0m\n",
            "\u001b[0;31mTypeError\u001b[0m: Invalid shape (1, 256, 256) for image data"
          ]
        },
        {
          "output_type": "display_data",
          "data": {
            "text/plain": [
              "<Figure size 1500x2000 with 12 Axes>"
            ],
            "image/png": "[encoded data removed]"
          },
          "metadata": {}
        }
      ]
    }
  ],
  "metadata": {
    "accelerator": "GPU",
    "colab": {
      "gpuType": "T4",
      "provenance": []
    },
    "kernelspec": {
      "display_name": "Python 3",
      "name": "python3"
    },
    "language_info": {
      "name": "python"
    }
  },
  "nbformat": 4,
  "nbformat_minor": 0
}